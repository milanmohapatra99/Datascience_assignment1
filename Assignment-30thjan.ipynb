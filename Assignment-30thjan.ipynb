{
 "cells": [
  {
   "cell_type": "code",
   "execution_count": 1,
   "id": "7ec6cf7a-3d6f-4646-81ea-1b7943f8f114",
   "metadata": {},
   "outputs": [
    {
     "name": "stdin",
     "output_type": "stream",
     "text": [
      "Enter Your Percentage:- 87\n"
     ]
    },
    {
     "name": "stdout",
     "output_type": "stream",
     "text": [
      "Your Grade is B\n"
     ]
    }
   ],
   "source": [
    "#Question no.1 Calculating Grade\n",
    "#Input percentage from user\n",
    "marks = float(input(\"Enter Your Percentage:-\"))\n",
    "if marks > 90 :\n",
    "    print(\"Your Grade is A\")\n",
    "elif marks >80 and  marks <= 90 :\n",
    "    print(\"Your Grade is B\")\n",
    "elif marks >= 60 and marks <= 80 :\n",
    "    print(\"Your Grade is C\")\n",
    "else :\n",
    "    print(\"Your Grade is D\")"
   ]
  },
  {
   "cell_type": "code",
   "execution_count": 2,
   "id": "22d3d921-b356-4a88-b427-75231b28a833",
   "metadata": {},
   "outputs": [
    {
     "name": "stdin",
     "output_type": "stream",
     "text": [
      "Enter Cost Price of the bike 78659\n"
     ]
    },
    {
     "name": "stdout",
     "output_type": "stream",
     "text": [
      "You Have to pay 10% of tax\n",
      "7865.900000000001\n"
     ]
    }
   ],
   "source": [
    "#Question no.2\n",
    "#Input costprice from user\n",
    "cp = int(input(\"Enter Cost Price of the bike\"))\n",
    "if cp > 100000:\n",
    "    print(\"You have to pay 15% of tax\")\n",
    "    print((15/100)*cp)\n",
    "elif cp > 50000 and cp <= 100000 :\n",
    "    print(\"You Have to pay 10% of tax\")\n",
    "    print((10/100)*cp)\n",
    "elif cp <= 50000:\n",
    "    print(\"You have to pay 5% of tax\")\n",
    "    print((5/100)*cp)"
   ]
  },
  {
   "cell_type": "code",
   "execution_count": 4,
   "id": "d8299a7c-77b4-489f-a27e-db6d1b222382",
   "metadata": {},
   "outputs": [
    {
     "name": "stdin",
     "output_type": "stream",
     "text": [
      "Enter Your City Agra\n"
     ]
    },
    {
     "name": "stdout",
     "output_type": "stream",
     "text": [
      "Famous Monument is Taj Mahal\n"
     ]
    }
   ],
   "source": [
    "#Question no.3\n",
    "#Input city from  user\n",
    "city = str(input(\"Enter Your City\"))\n",
    "\n",
    "if city == \"Delhi\" :\n",
    "    print(\"Famous Monument is Red Fort\")\n",
    "elif city == \"Agra\" :\n",
    "    print(\"Famous Monument is Taj Mahal\")\n",
    "elif city == \"jaipur\" :\n",
    "    print(\"Famous Monument is Jai Mahal\")"
   ]
  },
  {
   "cell_type": "code",
   "execution_count": null,
   "id": "3f210fd5-a98f-4a3f-b243-fb84d0add70e",
   "metadata": {},
   "outputs": [],
   "source": [
    "# ## Q.4 Check how many times a given number can be divided by 3 before it is less than or equal to 10.\n",
    "\n",
    "# #Taking input from user\n",
    "# num = int(input(\"Enter Your Number\"))\n",
    "\n",
    "# #Checking condition that number is lessthan or equalto 10 or not\n",
    "\n",
    "# if num<= 10:\n",
    "#     #initialing count    \n",
    "#     count = 0\n",
    "\n",
    "# #Checking number is notequalto 0 or not    \n",
    "#     while num != 0:\n",
    "#         if num % 3 == 0:\n",
    "#             count += 1\n",
    "#         num = num - 1\n",
    "# print(\"The Number of divisible by 3 is\", count,\"times\")       "
   ]
  },
  {
   "cell_type": "code",
   "execution_count": 5,
   "id": "cc489157-8340-496c-89c3-3e4671daaa66",
   "metadata": {},
   "outputs": [
    {
     "name": "stdin",
     "output_type": "stream",
     "text": [
      "Enter Your Number 27\n"
     ]
    },
    {
     "name": "stdout",
     "output_type": "stream",
     "text": [
      "The Number of divisible by 3 is 1 times\n"
     ]
    }
   ],
   "source": [
    "## Q.4 Check how many times a given number can be divided by 3 before it is less than or equal to 10.\n",
    "\n",
    "#Taking input from user\n",
    "num = int(input(\"Enter Your Number\"))\n",
    "count = 0\n",
    "while num > 10:\n",
    "    num = num // 3\n",
    "    count += 1\n",
    "\n",
    "print(\"The Number of divisible by 3 is\", count,\"times\")  "
   ]
  },
  {
   "cell_type": "code",
   "execution_count": null,
   "id": "7d423b08-2d9c-4cae-86f4-c4a6e5487431",
   "metadata": {},
   "outputs": [],
   "source": [
    "#Question no.5\n",
    "#Why and when to use while loop in python give a detailed description with example.\n",
    "Def:-\n",
    "The while loop  can execute a set of statements as long as a condition is true.\n",
    "\n",
    "The syntax of while loop is:-\n",
    "    while condition:\n",
    "    # body of while loop\n",
    "    \n",
    "Steps of Execution of while loop:-\n",
    "1- A while loop evaluates the condition\n",
    "2- If the condition evaluates to True, the code inside the while loop is executed.\n",
    "3- condition is evaluated again.\n",
    "4- This process continues until the condition is False.\n",
    "5- When condition evaluates to False, the loop stops.\n",
    "\n",
    "\n",
    "e.g :- \n",
    "i = 1\n",
    "while i < 6:\n",
    "  print(i)\n",
    "  i += 1\n"
   ]
  },
  {
   "cell_type": "markdown",
   "id": "485fbafc-5d94-4bcd-b36e-1101c6b59dec",
   "metadata": {},
   "source": [
    "Use Nested while loop to print 3 different pattern ?"
   ]
  },
  {
   "cell_type": "code",
   "execution_count": 6,
   "id": "15282760-b01d-41b2-94d9-6d72fe207aea",
   "metadata": {},
   "outputs": [
    {
     "name": "stdin",
     "output_type": "stream",
     "text": [
      "Enter Number of rows :-  6\n"
     ]
    },
    {
     "name": "stdout",
     "output_type": "stream",
     "text": [
      "* \n",
      "* * \n",
      "* * * \n",
      "* * * * \n",
      "* * * * * \n",
      "* * * * * * \n"
     ]
    }
   ],
   "source": [
    "#Pattern1\n",
    "# Right angle trangle\n",
    "n = int(input(\"Enter Number of rows :- \"))\n",
    " \n",
    "i = 1\n",
    "while i <= n :\n",
    "    j = 1\n",
    "    while j <= i:\n",
    "        print(\"*\", end = \" \")\n",
    "        j += 1\n",
    "    print()\n",
    "    i += 1\n"
   ]
  },
  {
   "cell_type": "code",
   "execution_count": 7,
   "id": "aa103181-24d9-4af4-a7e1-c3a131ad045a",
   "metadata": {},
   "outputs": [
    {
     "name": "stdin",
     "output_type": "stream",
     "text": [
      "Enter number of rows :  7\n"
     ]
    },
    {
     "name": "stdout",
     "output_type": "stream",
     "text": [
      "* * * * * * * \n",
      "* * * * * * \n",
      "* * * * * \n",
      "* * * * \n",
      "* * * \n",
      "* * \n",
      "* \n"
     ]
    }
   ],
   "source": [
    "# Pattern-2\n",
    "# Inverse Right angle trangle\n",
    "n = int(input('Enter number of rows : '))\n",
    " \n",
    "i = 1\n",
    "while i <= n :\n",
    "    j = n\n",
    "    while j >= i:\n",
    "        print(\"*\", end = \" \")\n",
    "        j -= 1\n",
    "    print()\n",
    "    i += 1"
   ]
  },
  {
   "cell_type": "code",
   "execution_count": 8,
   "id": "007a9334-ceb6-4ba8-a246-5b4075de2a74",
   "metadata": {},
   "outputs": [
    {
     "name": "stdin",
     "output_type": "stream",
     "text": [
      "Enter Rows:- 9\n"
     ]
    },
    {
     "name": "stdout",
     "output_type": "stream",
     "text": [
      "1 1 1 1 1 1 1 1 1 \n",
      "2 2 2 2 2 2 2 2 \n",
      "3 3 3 3 3 3 3 \n",
      "4 4 4 4 4 4 \n",
      "5 5 5 5 5 \n",
      "6 6 6 6 \n",
      "7 7 7 \n",
      "8 8 \n",
      "9 \n"
     ]
    }
   ],
   "source": [
    "# Pattern-3\n",
    "# Number Pattern\n",
    "r = int(input(\"Enter Rows:-\"))\n",
    "b = 0\n",
    "# reverse for loop from 5 to 0\n",
    "for i in range(r, 0, -1):\n",
    "    b += 1\n",
    "    for j in range(1, i + 1):\n",
    "        print(b, end=' ')\n",
    "    print('\\r')"
   ]
  },
  {
   "cell_type": "code",
   "execution_count": 9,
   "id": "1aff6be8-72a0-47c5-a5d2-a4430253a225",
   "metadata": {},
   "outputs": [
    {
     "name": "stdout",
     "output_type": "stream",
     "text": [
      "10\n",
      "9\n",
      "8\n",
      "7\n",
      "6\n",
      "5\n",
      "4\n",
      "3\n",
      "2\n",
      "1\n"
     ]
    }
   ],
   "source": [
    "#Reverse a while loop to display numbers from 10 to 1\n",
    "# Assigning Values \n",
    "n = 10\n",
    "#checking condition if number less than or equal to 10 and notequal to 0\n",
    "while n<=10 and n != 0:\n",
    "#printing number\n",
    "    print(n)\n",
    "    n = n-1"
   ]
  },
  {
   "cell_type": "code",
   "execution_count": 10,
   "id": "1a7c7303-ce5d-4960-b481-0c7e1d35970b",
   "metadata": {},
   "outputs": [
    {
     "name": "stdout",
     "output_type": "stream",
     "text": [
      "1\n",
      "2\n",
      "3\n",
      "4\n",
      "5\n",
      "6\n",
      "7\n",
      "8\n",
      "9\n",
      "10\n"
     ]
    }
   ],
   "source": [
    "#Question no-8\n",
    "#Reverse a while loop to display numbers from 1 to 10\n",
    "# Assigning Values\n",
    "n = 1\n",
    "#Checking condition number is less than 10 or not\n",
    "while n<=10 :\n",
    "#printing number    \n",
    "    print(n)\n",
    "    n = n+1\n"
   ]
  },
  {
   "cell_type": "code",
   "execution_count": null,
   "id": "1ab5a78a-0376-4f77-8423-a393fff2237e",
   "metadata": {},
   "outputs": [],
   "source": []
  }
 ],
 "metadata": {
  "kernelspec": {
   "display_name": "Python 3 (ipykernel)",
   "language": "python",
   "name": "python3"
  },
  "language_info": {
   "codemirror_mode": {
    "name": "ipython",
    "version": 3
   },
   "file_extension": ".py",
   "mimetype": "text/x-python",
   "name": "python",
   "nbconvert_exporter": "python",
   "pygments_lexer": "ipython3",
   "version": "3.10.6"
  }
 },
 "nbformat": 4,
 "nbformat_minor": 5
}
